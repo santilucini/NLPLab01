{
  "nbformat": 4,
  "nbformat_minor": 0,
  "metadata": {
    "colab": {
      "name": "Lab01.ipynb",
      "provenance": [],
      "collapsed_sections": [],
      "authorship_tag": "ABX9TyP5He/8y2HRxy6ygoZPLKKr",
      "include_colab_link": true
    },
    "kernelspec": {
      "name": "python3",
      "display_name": "Python 3"
    },
    "language_info": {
      "name": "python"
    }
  },
  "cells": [
    {
      "cell_type": "markdown",
      "metadata": {
        "id": "view-in-github",
        "colab_type": "text"
      },
      "source": [
        "<a href=\"https://colab.research.google.com/github/santilucini/NLPLab01/blob/main/Lab01.ipynb\" target=\"_parent\"><img src=\"https://colab.research.google.com/assets/colab-badge.svg\" alt=\"Open In Colab\"/></a>"
      ]
    },
    {
      "cell_type": "code",
      "source": [
        "import nltk"
      ],
      "metadata": {
        "id": "7FAbaPIfe0IG"
      },
      "execution_count": null,
      "outputs": []
    },
    {
      "cell_type": "code",
      "source": [
        "\n",
        "nltk.download()"
      ],
      "metadata": {
        "colab": {
          "base_uri": "https://localhost:8080/"
        },
        "id": "AiKWH95Ze1zo",
        "outputId": "e8f3177a-a600-4921-f617-358324c396e2"
      },
      "execution_count": null,
      "outputs": [
        {
          "name": "stdout",
          "output_type": "stream",
          "text": [
            "NLTK Downloader\n",
            "---------------------------------------------------------------------------\n",
            "    d) Download   l) List    u) Update   c) Config   h) Help   q) Quit\n",
            "---------------------------------------------------------------------------\n",
            "Downloader> l\n",
            "\n",
            "Packages:\n",
            "  [*] abc................. Australian Broadcasting Commission 2006\n",
            "  [*] alpino.............. Alpino Dutch Treebank\n",
            "  [ ] averaged_perceptron_tagger Averaged Perceptron Tagger\n",
            "  [ ] averaged_perceptron_tagger_ru Averaged Perceptron Tagger (Russian)\n",
            "  [ ] basque_grammars..... Grammars for Basque\n",
            "  [*] biocreative_ppi..... BioCreAtIvE (Critical Assessment of Information\n",
            "                           Extraction Systems in Biology)\n",
            "  [ ] bllip_wsj_no_aux.... BLLIP Parser: WSJ Model\n",
            "  [ ] book_grammars....... Grammars from NLTK Book\n",
            "  [*] brown............... Brown Corpus\n",
            "  [*] brown_tei........... Brown Corpus (TEI XML Version)\n",
            "  [*] cess_cat............ CESS-CAT Treebank\n",
            "  [*] cess_esp............ CESS-ESP Treebank\n",
            "  [*] chat80.............. Chat-80 Data Files\n",
            "  [*] city_database....... City Database\n",
            "  [*] cmudict............. The Carnegie Mellon Pronouncing Dictionary (0.6)\n",
            "  [*] comparative_sentences Comparative Sentence Dataset\n",
            "  [*] comtrans............ ComTrans Corpus Sample\n",
            "  [*] conll2000........... CONLL 2000 Chunking Corpus\n",
            "  [*] conll2002........... CONLL 2002 Named Entity Recognition Corpus\n",
            "Hit Enter to continue: \n",
            "  [*] conll2007........... Dependency Treebanks from CoNLL 2007 (Catalan\n",
            "                           and Basque Subset)\n",
            "  [*] crubadan............ Crubadan Corpus\n",
            "  [*] dependency_treebank. Dependency Parsed Treebank\n",
            "  [*] dolch............... Dolch Word List\n",
            "  [*] europarl_raw........ Sample European Parliament Proceedings Parallel\n",
            "                           Corpus\n",
            "  [*] extended_omw........ Extended Open Multilingual WordNet\n",
            "  [*] floresta............ Portuguese Treebank\n",
            "  [*] framenet_v15........ FrameNet 1.5\n",
            "  [*] framenet_v17........ FrameNet 1.7\n",
            "  [*] gazetteers.......... Gazeteer Lists\n",
            "  [*] genesis............. Genesis Corpus\n",
            "  [*] gutenberg........... Project Gutenberg Selections\n",
            "  [*] ieer................ NIST IE-ER DATA SAMPLE\n",
            "  [*] inaugural........... C-Span Inaugural Address Corpus\n",
            "  [*] indian.............. Indian Language POS-Tagged Corpus\n",
            "  [*] jeita............... JEITA Public Morphologically Tagged Corpus (in\n",
            "                           ChaSen format)\n",
            "  [*] kimmo............... PC-KIMMO Data Files\n",
            "  [*] knbc................ KNB Corpus (Annotated blog corpus)\n",
            "Hit Enter to continue: \n",
            "  [ ] large_grammars...... Large context-free and feature-based grammars\n",
            "                           for parser comparison\n",
            "  [*] lin_thesaurus....... Lin's Dependency Thesaurus\n",
            "  [*] mac_morpho.......... MAC-MORPHO: Brazilian Portuguese news text with\n",
            "                           part-of-speech tags\n",
            "  [*] machado............. Machado de Assis -- Obra Completa\n",
            "  [*] masc_tagged......... MASC Tagged Corpus\n",
            "  [ ] maxent_ne_chunker... ACE Named Entity Chunker (Maximum entropy)\n",
            "  [ ] maxent_treebank_pos_tagger Treebank Part of Speech Tagger (Maximum entropy)\n",
            "  [ ] moses_sample........ Moses Sample Models\n",
            "  [*] movie_reviews....... Sentiment Polarity Dataset Version 2.0\n",
            "  [*] mte_teip5........... MULTEXT-East 1984 annotated corpus 4.0\n",
            "  [ ] mwa_ppdb............ The monolingual word aligner (Sultan et al.\n",
            "                           2015) subset of the Paraphrase Database.\n",
            "  [*] names............... Names Corpus, Version 1.3 (1994-03-29)\n",
            "  [*] nombank.1.0......... NomBank Corpus 1.0\n",
            "  [*] nonbreaking_prefixes Non-Breaking Prefixes (Moses Decoder)\n",
            "  [*] nps_chat............ NPS Chat\n",
            "  [*] omw-1.4............. Open Multilingual Wordnet\n",
            "  [*] omw................. Open Multilingual Wordnet\n",
            "  [*] opinion_lexicon..... Opinion Lexicon\n",
            "Hit Enter to continue: \n",
            "  [*] panlex_swadesh...... PanLex Swadesh Corpora\n",
            "  [*] paradigms........... Paradigm Corpus\n",
            "  [*] pe08................ Cross-Framework and Cross-Domain Parser\n",
            "                           Evaluation Shared Task\n",
            "  [ ] perluniprops........ perluniprops: Index of Unicode Version 7.0.0\n",
            "                           character properties in Perl\n",
            "  [*] pil................. The Patient Information Leaflet (PIL) Corpus\n",
            "  [*] pl196x.............. Polish language of the XX century sixties\n",
            "  [ ] porter_test......... Porter Stemmer Test Files\n",
            "  [*] ppattach............ Prepositional Phrase Attachment Corpus\n",
            "  [*] problem_reports..... Problem Report Corpus\n",
            "  [*] product_reviews_1... Product Reviews (5 Products)\n",
            "  [*] product_reviews_2... Product Reviews (9 Products)\n",
            "  [*] propbank............ Proposition Bank Corpus 1.0\n",
            "  [*] pros_cons........... Pros and Cons\n",
            "  [*] ptb................. Penn Treebank\n",
            "  [*] punkt............... Punkt Tokenizer Models\n",
            "  [*] qc.................. Experimental Data for Question Classification\n",
            "  [*] reuters............. The Reuters-21578 benchmark corpus, ApteMod\n",
            "                           version\n",
            "  [ ] rslp................ RSLP Stemmer (Removedor de Sufixos da Lingua\n",
            "                           Portuguesa)\n",
            "Hit Enter to continue: \n",
            "  [*] rte................. PASCAL RTE Challenges 1, 2, and 3\n",
            "  [ ] sample_grammars..... Sample Grammars\n",
            "  [*] semcor.............. SemCor 3.0\n",
            "  [*] senseval............ SENSEVAL 2 Corpus: Sense Tagged Text\n",
            "  [*] sentence_polarity... Sentence Polarity Dataset v1.0\n",
            "  [*] sentiwordnet........ SentiWordNet\n",
            "  [*] shakespeare......... Shakespeare XML Corpus Sample\n",
            "  [*] sinica_treebank..... Sinica Treebank Corpus Sample\n",
            "  [*] smultron............ SMULTRON Corpus Sample\n",
            "  [ ] snowball_data....... Snowball Data\n",
            "  [ ] spanish_grammars.... Grammars for Spanish\n",
            "  [*] state_union......... C-Span State of the Union Address Corpus\n",
            "  [*] stopwords........... Stopwords Corpus\n",
            "  [*] subjectivity........ Subjectivity Dataset v1.0\n",
            "  [*] swadesh............. Swadesh Wordlists\n",
            "  [*] switchboard......... Switchboard Corpus Sample\n",
            "  [ ] tagsets............. Help on Tagsets\n",
            "  [*] timit............... TIMIT Corpus Sample\n",
            "  [*] toolbox............. Toolbox Sample Files\n",
            "  [*] treebank............ Penn Treebank Sample\n",
            "  [*] twitter_samples..... Twitter Samples\n",
            "Hit Enter to continue: \n",
            "  [*] udhr2............... Universal Declaration of Human Rights Corpus\n",
            "                           (Unicode Version)\n",
            "  [*] udhr................ Universal Declaration of Human Rights Corpus\n",
            "  [*] unicode_samples..... Unicode Samples\n",
            "  [ ] universal_tagset.... Mappings to the Universal Part-of-Speech Tagset\n",
            "  [*] universal_treebanks_v20 Universal Treebanks Version 2.0\n",
            "  [ ] vader_lexicon....... VADER Sentiment Lexicon\n",
            "  [*] verbnet3............ VerbNet Lexicon, Version 3.3\n",
            "  [*] verbnet............. VerbNet Lexicon, Version 2.1\n",
            "  [*] webtext............. Web Text Corpus\n",
            "  [ ] wmt15_eval.......... Evaluation data from WMT15\n",
            "  [ ] word2vec_sample..... Word2Vec Sample\n",
            "  [*] wordnet2021......... Open English Wordnet 2021\n",
            "  [*] wordnet31........... Wordnet 3.1\n",
            "  [*] wordnet............. WordNet\n",
            "  [*] wordnet_ic.......... WordNet-InfoContent\n",
            "  [*] words............... Word Lists\n",
            "  [*] ycoe................ York-Toronto-Helsinki Parsed Corpus of Old\n",
            "                           English Prose\n",
            "\n",
            "Collections:\n",
            "  [*] all-corpora......... All the corpora\n",
            "Hit Enter to continue: q\n",
            "\n",
            "---------------------------------------------------------------------------\n",
            "    d) Download   l) List    u) Update   c) Config   h) Help   q) Quit\n",
            "---------------------------------------------------------------------------\n",
            "Downloader> q\n"
          ]
        },
        {
          "output_type": "execute_result",
          "data": {
            "text/plain": [
              "True"
            ]
          },
          "metadata": {},
          "execution_count": 42
        }
      ]
    },
    {
      "cell_type": "code",
      "source": [
        "from nltk.book import *"
      ],
      "metadata": {
        "colab": {
          "base_uri": "https://localhost:8080/"
        },
        "id": "9EkIuCH6e_62",
        "outputId": "884e4c9e-1d2b-43cc-833e-660def583413"
      },
      "execution_count": null,
      "outputs": [
        {
          "output_type": "stream",
          "name": "stdout",
          "text": [
            "*** Introductory Examples for the NLTK Book ***\n",
            "Loading text1, ..., text9 and sent1, ..., sent9\n",
            "Type the name of the text or sentence to view it.\n",
            "Type: 'texts()' or 'sents()' to list the materials.\n",
            "text1: Moby Dick by Herman Melville 1851\n",
            "text2: Sense and Sensibility by Jane Austen 1811\n",
            "text3: The Book of Genesis\n",
            "text4: Inaugural Address Corpus\n",
            "text5: Chat Corpus\n",
            "text6: Monty Python and the Holy Grail\n",
            "text7: Wall Street Journal\n",
            "text8: Personals Corpus\n",
            "text9: The Man Who Was Thursday by G . K . Chesterton 1908\n"
          ]
        }
      ]
    },
    {
      "cell_type": "code",
      "source": [
        "text1.tokens[0:5]"
      ],
      "metadata": {
        "colab": {
          "base_uri": "https://localhost:8080/"
        },
        "id": "ETJTam4wfkGF",
        "outputId": "e452b437-040b-4836-da64-27e9636e6e31"
      },
      "execution_count": null,
      "outputs": [
        {
          "output_type": "execute_result",
          "data": {
            "text/plain": [
              "['[', 'Moby', 'Dick', 'by', 'Herman']"
            ]
          },
          "metadata": {},
          "execution_count": 7
        }
      ]
    },
    {
      "cell_type": "code",
      "source": [
        "texts()"
      ],
      "metadata": {
        "colab": {
          "base_uri": "https://localhost:8080/"
        },
        "id": "4RWiE8o1gc7a",
        "outputId": "1dfaf67a-381b-47e3-f6cc-d923d93cf0e1"
      },
      "execution_count": null,
      "outputs": [
        {
          "output_type": "stream",
          "name": "stdout",
          "text": [
            "text1: Moby Dick by Herman Melville 1851\n",
            "text2: Sense and Sensibility by Jane Austen 1811\n",
            "text3: The Book of Genesis\n",
            "text4: Inaugural Address Corpus\n",
            "text5: Chat Corpus\n",
            "text6: Monty Python and the Holy Grail\n",
            "text7: Wall Street Journal\n",
            "text8: Personals Corpus\n",
            "text9: The Man Who Was Thursday by G . K . Chesterton 1908\n"
          ]
        }
      ]
    },
    {
      "cell_type": "code",
      "source": [
        "mysent = \"The cat sat on the mat.\""
      ],
      "metadata": {
        "id": "koOEN1DUggrg"
      },
      "execution_count": null,
      "outputs": []
    },
    {
      "cell_type": "code",
      "source": [
        "nltk.download('punkt')"
      ],
      "metadata": {
        "colab": {
          "base_uri": "https://localhost:8080/"
        },
        "id": "9J1t3yEyhcDU",
        "outputId": "8588d063-e5ef-4fe7-c818-7a371c249daa"
      },
      "execution_count": null,
      "outputs": [
        {
          "output_type": "stream",
          "name": "stdout",
          "text": [
            "[nltk_data] Downloading package punkt to /root/nltk_data...\n",
            "[nltk_data]   Unzipping tokenizers/punkt.zip.\n"
          ]
        },
        {
          "output_type": "execute_result",
          "data": {
            "text/plain": [
              "True"
            ]
          },
          "metadata": {},
          "execution_count": 10
        }
      ]
    },
    {
      "cell_type": "code",
      "source": [
        "from nltk import word_tokenize"
      ],
      "metadata": {
        "id": "T0bym1DShDUs"
      },
      "execution_count": null,
      "outputs": []
    },
    {
      "cell_type": "code",
      "source": [
        "mysent_tokens = word_tokenize(mysent)"
      ],
      "metadata": {
        "id": "yIjqu6zchIAC"
      },
      "execution_count": null,
      "outputs": []
    },
    {
      "cell_type": "code",
      "source": [
        "mysent_tokens"
      ],
      "metadata": {
        "colab": {
          "base_uri": "https://localhost:8080/"
        },
        "id": "O_g1c_ZKhNqK",
        "outputId": "12da4102-fcd2-40ce-9106-55c5f33a1c2a"
      },
      "execution_count": null,
      "outputs": [
        {
          "output_type": "execute_result",
          "data": {
            "text/plain": [
              "['The', 'cat', 'sat', 'on', 'the', 'mat', '.']"
            ]
          },
          "metadata": {},
          "execution_count": 13
        }
      ]
    },
    {
      "cell_type": "code",
      "source": [
        "len(mysent_tokens)"
      ],
      "metadata": {
        "colab": {
          "base_uri": "https://localhost:8080/"
        },
        "id": "h8Y6G_8nhiXJ",
        "outputId": "b718c10a-9be4-44c1-cd54-584d769b0fe9"
      },
      "execution_count": null,
      "outputs": [
        {
          "output_type": "execute_result",
          "data": {
            "text/plain": [
              "7"
            ]
          },
          "metadata": {},
          "execution_count": 14
        }
      ]
    },
    {
      "cell_type": "code",
      "source": [
        "from nltk import re"
      ],
      "metadata": {
        "id": "k2pPdJcohlHq"
      },
      "execution_count": null,
      "outputs": []
    },
    {
      "cell_type": "code",
      "source": [
        "m = re.search(\"leng\",\"procesamiento del lenguaje natural\")"
      ],
      "metadata": {
        "id": "byHDXryjiEVR"
      },
      "execution_count": null,
      "outputs": []
    },
    {
      "cell_type": "code",
      "source": [
        "m"
      ],
      "metadata": {
        "colab": {
          "base_uri": "https://localhost:8080/"
        },
        "id": "IFu6m7_YiMmy",
        "outputId": "ff494a97-fc91-4e66-d16e-1de4f9c05443"
      },
      "execution_count": null,
      "outputs": [
        {
          "output_type": "execute_result",
          "data": {
            "text/plain": [
              "<re.Match object; span=(18, 22), match='leng'>"
            ]
          },
          "metadata": {},
          "execution_count": 17
        }
      ]
    },
    {
      "cell_type": "code",
      "source": [
        "m.start()"
      ],
      "metadata": {
        "colab": {
          "base_uri": "https://localhost:8080/"
        },
        "id": "uUAKonEciOZ-",
        "outputId": "fc1dcbcd-a193-43dd-977b-eb8de92dde16"
      },
      "execution_count": null,
      "outputs": [
        {
          "output_type": "execute_result",
          "data": {
            "text/plain": [
              "18"
            ]
          },
          "metadata": {},
          "execution_count": 18
        }
      ]
    },
    {
      "cell_type": "code",
      "source": [
        "m.end()"
      ],
      "metadata": {
        "colab": {
          "base_uri": "https://localhost:8080/"
        },
        "id": "QaoVSpkFiTHx",
        "outputId": "d4a690b0-7e77-49a4-e41c-93318a43fe94"
      },
      "execution_count": null,
      "outputs": [
        {
          "output_type": "execute_result",
          "data": {
            "text/plain": [
              "22"
            ]
          },
          "metadata": {},
          "execution_count": 19
        }
      ]
    },
    {
      "cell_type": "code",
      "source": [
        "n\t=\tre.search(\"procesa\",\t\"procesamiento\tdel\tlenguaje\tnatural\")\n"
      ],
      "metadata": {
        "id": "RXGQ5R2sicoh"
      },
      "execution_count": null,
      "outputs": []
    },
    {
      "cell_type": "code",
      "source": [
        "n"
      ],
      "metadata": {
        "colab": {
          "base_uri": "https://localhost:8080/"
        },
        "id": "Jwil7bKOirJZ",
        "outputId": "981d1f27-b144-4d06-fef3-b9cee198602e"
      },
      "execution_count": null,
      "outputs": [
        {
          "output_type": "execute_result",
          "data": {
            "text/plain": [
              "<re.Match object; span=(0, 7), match='procesa'>"
            ]
          },
          "metadata": {},
          "execution_count": 21
        }
      ]
    },
    {
      "cell_type": "code",
      "source": [
        "mysent_tokens_nopunct\t=\t[word\tfor\tword\tin\tword_tokenize(mysent)\tif\tre.search(\"\\w\",\tword)]"
      ],
      "metadata": {
        "id": "X9wO0SUwisFR"
      },
      "execution_count": null,
      "outputs": []
    },
    {
      "cell_type": "code",
      "source": [
        "mysent_tokens_nopunct"
      ],
      "metadata": {
        "colab": {
          "base_uri": "https://localhost:8080/"
        },
        "id": "ogWtROwTjI_h",
        "outputId": "3b78283a-744e-4cbc-cba5-d6f3d36b092a"
      },
      "execution_count": null,
      "outputs": [
        {
          "output_type": "execute_result",
          "data": {
            "text/plain": [
              "['The', 'cat', 'sat', 'on', 'the', 'mat']"
            ]
          },
          "metadata": {},
          "execution_count": 23
        }
      ]
    },
    {
      "cell_type": "code",
      "source": [
        "len(mysent_tokens_nopunct)\t"
      ],
      "metadata": {
        "colab": {
          "base_uri": "https://localhost:8080/"
        },
        "id": "23KeRhy-jPZA",
        "outputId": "98a40a8d-c433-4216-c792-da237cd7578d"
      },
      "execution_count": null,
      "outputs": [
        {
          "output_type": "execute_result",
          "data": {
            "text/plain": [
              "6"
            ]
          },
          "metadata": {},
          "execution_count": 24
        }
      ]
    },
    {
      "cell_type": "code",
      "source": [
        "set(mysent_tokens_nopunct)"
      ],
      "metadata": {
        "colab": {
          "base_uri": "https://localhost:8080/"
        },
        "id": "rcCuRwrqjTqp",
        "outputId": "9713516c-f7d5-412f-a4d3-5448a69b9f88"
      },
      "execution_count": null,
      "outputs": [
        {
          "output_type": "execute_result",
          "data": {
            "text/plain": [
              "{'The', 'cat', 'mat', 'on', 'sat', 'the'}"
            ]
          },
          "metadata": {},
          "execution_count": 25
        }
      ]
    },
    {
      "cell_type": "code",
      "source": [
        "moby_dick_tokens\t=\ttext1.tokens"
      ],
      "metadata": {
        "id": "C50HgXfJjWJ4"
      },
      "execution_count": null,
      "outputs": []
    },
    {
      "cell_type": "code",
      "source": [
        "moby_dick_tokens_nopunct\t=\t[word.lower()\tfor\tword\tin\tmoby_dick_tokens\tif\tre.search(\"\\w\",\tword)]"
      ],
      "metadata": {
        "id": "2HIdZFGvjjTa"
      },
      "execution_count": null,
      "outputs": []
    },
    {
      "cell_type": "code",
      "source": [
        "moby_dick_tokens_nopunct[0:5]"
      ],
      "metadata": {
        "colab": {
          "base_uri": "https://localhost:8080/"
        },
        "id": "-S50FbrOjrJx",
        "outputId": "2943f35c-e4fb-4356-9fe1-7f9a150d8ead"
      },
      "execution_count": null,
      "outputs": [
        {
          "output_type": "execute_result",
          "data": {
            "text/plain": [
              "['moby', 'dick', 'by', 'herman', 'melville']"
            ]
          },
          "metadata": {},
          "execution_count": 28
        }
      ]
    },
    {
      "cell_type": "code",
      "source": [
        "len(moby_dick_tokens_nopunct)"
      ],
      "metadata": {
        "colab": {
          "base_uri": "https://localhost:8080/"
        },
        "id": "UoYLxKDHjv3R",
        "outputId": "adf148f8-800a-4300-b90f-0987078465f0"
      },
      "execution_count": null,
      "outputs": [
        {
          "output_type": "execute_result",
          "data": {
            "text/plain": [
              "218621"
            ]
          },
          "metadata": {},
          "execution_count": 29
        }
      ]
    },
    {
      "cell_type": "code",
      "source": [
        "len(set(moby_dick_tokens_nopunct))"
      ],
      "metadata": {
        "colab": {
          "base_uri": "https://localhost:8080/"
        },
        "id": "o-2SZzOWnFCY",
        "outputId": "34cc78f3-fdd4-4984-c911-81d0720f34a4"
      },
      "execution_count": null,
      "outputs": [
        {
          "output_type": "execute_result",
          "data": {
            "text/plain": [
              "17140"
            ]
          },
          "metadata": {},
          "execution_count": 30
        }
      ]
    },
    {
      "cell_type": "code",
      "source": [
        "a = len(set(moby_dick_tokens_nopunct))/len(moby_dick_tokens_nopunct)\n",
        "a"
      ],
      "metadata": {
        "id": "W7AgDjkyofpo",
        "colab": {
          "base_uri": "https://localhost:8080/"
        },
        "outputId": "88774f79-512d-4ee7-ab00-0667ee07cfa2"
      },
      "execution_count": null,
      "outputs": [
        {
          "output_type": "execute_result",
          "data": {
            "text/plain": [
              "0.07840051962071347"
            ]
          },
          "metadata": {},
          "execution_count": 40
        }
      ]
    },
    {
      "cell_type": "code",
      "source": [
        "wsj_tokens = text7.tokens"
      ],
      "metadata": {
        "id": "o4ZccjKANLtr"
      },
      "execution_count": null,
      "outputs": []
    },
    {
      "cell_type": "code",
      "source": [
        "wsj_tokens_nopunct\t=\t[word.lower()\tfor\tword\tin\twsj_tokens\tif\tre.search(\"\\w\",\tword)]"
      ],
      "metadata": {
        "id": "JkSgZX_ENT7H"
      },
      "execution_count": null,
      "outputs": []
    },
    {
      "cell_type": "code",
      "source": [
        "len(wsj_tokens_nopunct)"
      ],
      "metadata": {
        "colab": {
          "base_uri": "https://localhost:8080/"
        },
        "id": "zTTHhWkuNmnS",
        "outputId": "039726d6-33a4-4387-e03d-86b6056c74bb"
      },
      "execution_count": null,
      "outputs": [
        {
          "output_type": "execute_result",
          "data": {
            "text/plain": [
              "87608"
            ]
          },
          "metadata": {},
          "execution_count": 34
        }
      ]
    },
    {
      "cell_type": "code",
      "source": [
        "len(set(wsj_tokens_nopunct))"
      ],
      "metadata": {
        "colab": {
          "base_uri": "https://localhost:8080/"
        },
        "id": "o3_EJJebNpjv",
        "outputId": "7457d022-4259-49b2-8432-55710084a6d3"
      },
      "execution_count": null,
      "outputs": [
        {
          "output_type": "execute_result",
          "data": {
            "text/plain": [
              "11367"
            ]
          },
          "metadata": {},
          "execution_count": 35
        }
      ]
    },
    {
      "cell_type": "code",
      "source": [
        "b = len(set(wsj_tokens_nopunct))/len(wsj_tokens_nopunct)\n",
        "b"
      ],
      "metadata": {
        "colab": {
          "base_uri": "https://localhost:8080/"
        },
        "id": "qEXtbVj6Pewo",
        "outputId": "b8f2a43e-17eb-4984-f4b6-48cd87a58b19"
      },
      "execution_count": null,
      "outputs": [
        {
          "output_type": "execute_result",
          "data": {
            "text/plain": [
              "0.129748424801388"
            ]
          },
          "metadata": {},
          "execution_count": 41
        }
      ]
    },
    {
      "cell_type": "markdown",
      "source": [
        "5. El corpus del WSJ tiene una mayor diversidad lexica que el corpus moby dick.\n",
        "6. Una de las razones por la cual el corpus de WSJ tiene una mayor diversidad lexica es que no todos los textos que lo componen fueron escritos por las mismas personas, y por lo tanto cada persona tiene un conjunto de lexicos que usa con mayor frecuencia. \n",
        "Otra razon es que en el corpus de WSJ, los temas de los textos varían mas, en cambio en el corpues de moby dick, solo trata de moby dick."
      ],
      "metadata": {
        "id": "dgA3ipQ7QFnJ"
      }
    },
    {
      "cell_type": "code",
      "source": [
        "contador = 0\n",
        "for\tword\tin\twsj_tokens_nopunct:\n",
        "  if\tre.search(\"whale\",\tword.lower()):\n",
        "    contador += 1\n",
        "\n",
        "contador/len(wsj_tokens_nopunct)"
      ],
      "metadata": {
        "colab": {
          "base_uri": "https://localhost:8080/"
        },
        "id": "QBf_TCV_QUII",
        "outputId": "947f4639-dcad-49ec-e654-340a18e633fa"
      },
      "execution_count": null,
      "outputs": [
        {
          "output_type": "execute_result",
          "data": {
            "text/plain": [
              "0.0"
            ]
          },
          "metadata": {},
          "execution_count": 52
        }
      ]
    },
    {
      "cell_type": "code",
      "source": [
        "contador1 = 0\n",
        "for\tword\tin\tmoby_dick_tokens_nopunct:\n",
        "  if\tre.search(\"whale\",\tword.lower()):\n",
        "    contador1 += 1\n",
        "\n",
        "contador1/len(moby_dick_tokens_nopunct)"
      ],
      "metadata": {
        "colab": {
          "base_uri": "https://localhost:8080/"
        },
        "id": "WQDMHVU4a4wV",
        "outputId": "5f5ee95d-35c7-4d2b-d822-987617fa1c9f"
      },
      "execution_count": null,
      "outputs": [
        {
          "output_type": "execute_result",
          "data": {
            "text/plain": [
              "0.007707402308103979"
            ]
          },
          "metadata": {},
          "execution_count": 53
        }
      ]
    },
    {
      "cell_type": "code",
      "source": [
        ""
      ],
      "metadata": {
        "id": "c48fSCEZa-bs"
      },
      "execution_count": null,
      "outputs": []
    }
  ]
}